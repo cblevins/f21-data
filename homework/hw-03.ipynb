{
 "cells": [
  {
   "cell_type": "markdown",
   "metadata": {},
   "source": [
    "# Homework #3"
   ]
  },
  {
   "cell_type": "markdown",
   "metadata": {},
   "source": [
    "This assignment is adapted from a homework assignment developed by Melanie Walsh, Introduction to Cultural Analytics and Python (Spring 2021)."
   ]
  },
  {
   "cell_type": "markdown",
   "metadata": {},
   "source": [
    "Student Name: Your name here  "
   ]
  },
  {
   "cell_type": "markdown",
   "metadata": {
    "tags": []
   },
   "source": [
    "---\n",
    "This homework assignment will model how you might begin to work on a larger data-driven project.\n",
    "\n",
    "Answer the questions below and follow the instructions. When you're finished, you should follow [the instructions on the course website](https://cblevins.github.io/f21-data/assignments/coding-homework/) to submit it to Canvas. \n",
    "\n",
    "To keep things organized on your computer, please make a new sub-folder named `hw-03` inside your main class `data-a-user-manual` folder and save this notebook inside that folder."
   ]
  },
  {
   "cell_type": "markdown",
   "metadata": {},
   "source": [
    "## Assignment Overview\n",
    "\n",
    "Imagine that we want to visualize everyone's favorite musical albums by the decade they were released (such as in the imaginary chart below).\n",
    "\n",
    "\n",
    "![](https://cblevins.github.io/f21-data/assets/image/music-chart.png)\n",
    "\n",
    "To make this chart, we would need to know the year that each album was released, and we would need to aggregate the years by decade.\n",
    "\n",
    "One method for getting the album release year information would be to programmatically extract this information from the web, such as from Genius.com web pages (pictured below) — in other words, to write a Python script that would automatically extract this information. \n",
    "  \n",
    "![](https://cblevins.github.io/f21-data/assets/image/Purple-Rain-Prince.png)\n",
    "\n",
    "Typically, when extracting data from the web, you need to extract whole sections of the web page, such as `'Released June 25, 1984'` rather than just `'1984'`, which means that we have to do further manipulations with Python in order to get the text in the correct format.\n",
    "\n",
    "The rest of this homework assignment picks up at this point in the imagined project. We figured out how to extract a specific section of Genius album web pages, but now we need to clean and manipulate the data to extract the 4-digit years from all of these examples and then categorize them by decade."
   ]
  },
  {
   "cell_type": "markdown",
   "metadata": {},
   "source": [
    "## End Goal\n",
    "\n",
    "The assignment will slowly build toward the following: \n",
    "\n",
    "- Start with a initial list of release dates scraped from Genius.com\n",
    "- Manually add one extra release date that was not successfully scraped from the website\n",
    "- Iterate through the list `album_years`extract the 4-digit year from each item in the list, and then categorize each release year into decades."
   ]
  },
  {
   "cell_type": "markdown",
   "metadata": {},
   "source": [
    "**Starting data**:"
   ]
  },
  {
   "cell_type": "code",
   "execution_count": null,
   "metadata": {},
   "outputs": [],
   "source": [
    "#Here is your starting data\n",
    "album_years = ['Released June 25, 1984', 'Released October 25, 2007 ', 'Released Monday July 21, 2017', ' Released May 18, 2018']\n",
    "extra_album_year = 'Released April 7, 1978'"
   ]
  },
  {
   "cell_type": "markdown",
   "metadata": {},
   "source": [
    "**End goal code structure and output**:"
   ]
  },
  {
   "cell_type": "code",
   "execution_count": null,
   "metadata": {},
   "outputs": [],
   "source": [
    "#Your starting data \n",
    "#Your starting data\n",
    "\n",
    "#Your Code Here\n",
    "#Your code here\n",
    "#Your code here\n",
    "    #Your code here\n",
    "    #Your code here\n",
    "    #Your code here\n",
    "        #Your code here\n",
    "    #Your code here\n",
    "        #Your code here\n",
    "    #Your code here\n",
    "        #Your code here\n",
    "    #Your code here\n",
    "        #Your code here\n",
    "    #Your code here\n",
    "        #Your code here"
   ]
  },
  {
   "cell_type": "markdown",
   "metadata": {},
   "source": [
    "## Start Small"
   ]
  },
  {
   "cell_type": "markdown",
   "metadata": {},
   "source": [
    "A great way to approach a complicated coding challenge is to start small and break things into sequential steps."
   ]
  },
  {
   "cell_type": "markdown",
   "metadata": {},
   "source": [
    "**1.** Our first step is to add an additional release date to our intial list of release dates. You can refresh yourself on how to do this in [Lists & Loops Part 1](https://melaniewalsh.github.io/Intro-Cultural-Analytics/02-Python/09-Lists-Loops-Part1.html)."
   ]
  },
  {
   "cell_type": "code",
   "execution_count": null,
   "metadata": {},
   "outputs": [],
   "source": [
    "album_years = ['Released June 25, 1984', 'Released October 25, 2007 ', 'Released Monday July 21, 2017', ' Released May 18, 2018']\n",
    "extra_album_year = 'Released April 7, 1978'\n",
    "\n",
    "#Your Code Here"
   ]
  },
  {
   "cell_type": "markdown",
   "metadata": {},
   "source": [
    "**2.** If our end goal is to extract the 4-digit years from all these albums in one go, we might begin by considering just one of these examples. Extract just the 4-digit year from the variable `purple_rain` by using [string methods](https://melaniewalsh.github.io/Intro-Cultural-Analytics/02-Python/06-String-Methods.html)."
   ]
  },
  {
   "cell_type": "code",
   "execution_count": null,
   "metadata": {},
   "outputs": [],
   "source": [
    "purple_rain = \"June 25, 1984\"\n",
    "\n",
    "#Your Code Here"
   ]
  },
  {
   "cell_type": "markdown",
   "metadata": {},
   "source": [
    "## Build Up"
   ]
  },
  {
   "cell_type": "markdown",
   "metadata": {},
   "source": [
    "Great! We were able to extract the 4-digit year from one example. But will this approach work on all the examples?\n",
    "\n",
    "Let's figure out a bit of code that will work on multiple examples with different lengths and formatting."
   ]
  },
  {
   "cell_type": "markdown",
   "metadata": {},
   "source": [
    "**3.** Extract the 4-digit year from the variables `purple_rain` and `blackout` using the exact same code. *Hint: the release date for the Blackout album contains an extra space at the end (also called a trailing white space).*"
   ]
  },
  {
   "cell_type": "code",
   "execution_count": null,
   "metadata": {},
   "outputs": [],
   "source": [
    "purple_rain = \"June 25, 1984\"\n",
    "blackout = \"October 25, 2007 \"\n",
    "\n",
    "#Your Code Here\n",
    "#Your Code Here"
   ]
  },
  {
   "cell_type": "markdown",
   "metadata": {},
   "source": [
    "## Apply the Process to All the Data"
   ]
  },
  {
   "cell_type": "markdown",
   "metadata": {},
   "source": [
    "Now we're cooking! Let's apply this code to each album in our list.\n",
    "\n",
    "**4.** Use a `for` loop to consider each item in the list `album_years`, extract the 4-digit year into a variable called `year`, and then `print()` out `year`."
   ]
  },
  {
   "cell_type": "code",
   "execution_count": null,
   "metadata": {},
   "outputs": [],
   "source": [
    "album_years = ['Released June 25, 1984', 'Released October 25, 2007 ', 'Released Monday July 21, 2017', ' Released May 18, 2018', 'Released April 7, 1978']"
   ]
  },
  {
   "cell_type": "code",
   "execution_count": null,
   "metadata": {},
   "outputs": [],
   "source": [
    "#Your Code Here\n",
    "    #Your Code Here\n",
    "    #Your Code Here"
   ]
  },
  {
   "cell_type": "markdown",
   "metadata": {},
   "source": [
    "## Make a String a Number"
   ]
  },
  {
   "cell_type": "markdown",
   "metadata": {},
   "source": [
    "Now that we have all the years isolated, we need to categorize them by decade. A good method for doing so is to use comparison operators such as `>`,`<`, `<=`, or `>=`. To use comparison operators, however, we first need to convert our strings to numbers. You can convert a string to an integer by using [`int()`](https://realpython.com/convert-python-string-to-int/#converting-a-python-string-to-an-int)."
   ]
  },
  {
   "cell_type": "markdown",
   "metadata": {},
   "source": [
    "In the following example \"500\" is actually being stored as a string, not an integer, because it is in quotes."
   ]
  },
  {
   "cell_type": "code",
   "execution_count": null,
   "metadata": {},
   "outputs": [],
   "source": [
    "type(\"500\")"
   ]
  },
  {
   "cell_type": "markdown",
   "metadata": {},
   "source": [
    "We can change it to an integer using `int()`"
   ]
  },
  {
   "cell_type": "code",
   "execution_count": null,
   "metadata": {},
   "outputs": [],
   "source": [
    "type(int(\"500\"))"
   ]
  },
  {
   "cell_type": "markdown",
   "metadata": {},
   "source": [
    "**5.** Copy and paste your `for` loop from the last answer and add a line to your code where you: convert the year to an integer, assign it to the variable `year_number`, and instead of printing `year` replace it with a print() statement that makes sure `year_number` is being stored as an integer."
   ]
  },
  {
   "cell_type": "code",
   "execution_count": null,
   "metadata": {},
   "outputs": [],
   "source": [
    "#Your Code Here\n",
    "    #Your Code Here\n",
    "    #Your Code Here\n",
    "    #Your Code Here"
   ]
  },
  {
   "cell_type": "markdown",
   "metadata": {},
   "source": [
    "## Check the Decades"
   ]
  },
  {
   "cell_type": "markdown",
   "metadata": {},
   "source": [
    "We're almost to our end goal! All we have to do now is print out a corresponding decade (e.g., \"1980s\") for each album release year.\n",
    "\n",
    "**6.** Use `if` and `elif` statements as well as comparison operators (`>`,`<`, `<=`, or `>=`) to test whether each `year_number` falls within the 1970s, 1980s, 1990s, 2000s, or 2010s. Your goal is to print two lines for each album: the release date and what decade it falls into.\n",
    "\n",
    "*Hint: you will also need to use the logical opeartor [and](https://melaniewalsh.github.io/Intro-Cultural-Analytics/02-Python/08-Comparisons-Conditionals.html#and)*."
   ]
  },
  {
   "cell_type": "markdown",
   "metadata": {},
   "source": [
    "Your code should follow something like this format:"
   ]
  },
  {
   "cell_type": "code",
   "execution_count": null,
   "metadata": {},
   "outputs": [],
   "source": [
    "album_years = ['Released June 25, 1984', 'Released October 25, 2007 ', 'Released Monday July 21, 2017', ' Released May 18, 2018']\n",
    "extra_album_year = 'Released April 7, 1978'\n",
    "\n",
    "#Your Code Here\n",
    "for #Your code here\n",
    "    print ... #Your Code Here\n",
    "    year ... #Your code here\n",
    "    year_number ... #Your code here\n",
    "    if ... #Your Code Here\n",
    "        print(\"1970s\")\n",
    "    elif ... #Your Code Here\n",
    "        print(\"1980s\")\n",
    "    # Your code here\n",
    "        # Your code here\n",
    "    # Your code here\n",
    "        # Your code here\n",
    "    # Your code here\n",
    "        # Your code here"
   ]
  }
 ],
 "metadata": {
  "kernelspec": {
   "display_name": "Python 3",
   "language": "python",
   "name": "python3"
  },
  "language_info": {
   "codemirror_mode": {
    "name": "ipython",
    "version": 3
   },
   "file_extension": ".py",
   "mimetype": "text/x-python",
   "name": "python",
   "nbconvert_exporter": "python",
   "pygments_lexer": "ipython3",
   "version": "3.8.8"
  }
 },
 "nbformat": 4,
 "nbformat_minor": 4
}
