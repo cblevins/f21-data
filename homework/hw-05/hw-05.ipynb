{
 "cells": [
  {
   "cell_type": "markdown",
   "id": "2e90b4ef-17c7-43bb-a890-b17f6eec894e",
   "metadata": {},
   "source": [
    "# Homework 5"
   ]
  },
  {
   "cell_type": "markdown",
   "id": "76c93e69-63e5-478b-90a9-95ac5a016ca8",
   "metadata": {
    "tags": []
   },
   "source": [
    "Student Name: Your name here  "
   ]
  },
  {
   "cell_type": "markdown",
   "id": "25cb975d-ea40-4826-9879-5bc8bc8b56c3",
   "metadata": {
    "tags": []
   },
   "source": [
    "---\n",
    "This homework assignment will help you learn how to use the Pandas library to explore tabular data. This homework follows Melanie Walsh, [Pandas I](https://info1350.github.io/Intro-CA-SP21/03-Data-Analysis/01-Pandas-Basics-Part1.html).\n",
    "\n",
    "Answer the questions below and follow the instructions. When you're finished, you should follow [the instructions on the course website](https://cblevins.github.io/f21-data/assignments/coding-homework/) to submit it to Canvas. \n",
    "\n",
    "To keep things organized on your computer, please make a new sub-folder named `hw-05` inside your main class `data-a-user-manual` folder and save this notebook inside that folder."
   ]
  },
  {
   "cell_type": "markdown",
   "id": "9d5943fe-bfe1-491f-be01-3c9e496abf9e",
   "metadata": {},
   "source": [
    "## Getting to Know the Data"
   ]
  },
  {
   "cell_type": "markdown",
   "id": "ac5a7523-9381-4cac-93a7-d2a55f4cb98f",
   "metadata": {},
   "source": [
    "For this week we're going to use a spreadsheet of historical data transcribed by CU Denver history major Ryan Hanlon as part of his final project for Introduction to Digital Studies. The data consists of a passenger list from a steamship that arrived in Boston on April 9, 1884 carrying several hundred immigrants.\n",
    "\n",
    "![grecian](grecian.jpg)\n",
    "\n",
    "The nine-page passenger list from the *Steamship Grecian* was submitted to authorities at the Port of Boston. This document was later scanned by the Church of Latter Day Saints and made available through its FamilySearch online archive. \n",
    "\n",
    "![grecian](passenger-list-page.jpeg)\n",
    "\n",
    "Ryan then transcribed the data in Spring 2021. This data is contained in the CSV (comma separated values) file: `boston-passenger-list-1884.csv`. "
   ]
  },
  {
   "cell_type": "markdown",
   "id": "a31d592a-b32c-428e-aad5-5f63df2fb016",
   "metadata": {},
   "source": [
    "For this homework, you will be following many of Melanie Walsh's steps in [Pandas I](https://info1350.github.io/Intro-CA-SP21/03-Data-Analysis/01-Pandas-Basics-Part1.html) and then adapting them to fit this new dataset.\n",
    "\n",
    "---"
   ]
  },
  {
   "cell_type": "markdown",
   "id": "dfdad06b-b2c0-4971-9b02-3df9883ea90d",
   "metadata": {},
   "source": [
    "1. Import the Pandas library (use the alias `pd`) and read in the CSV file with `pd.read_csv()`, storing the contents of the file as a dataframe named `passengers_df`. Add a line of code with just `passengers_df` to display the truncated dataframe."
   ]
  },
  {
   "cell_type": "code",
   "execution_count": 1,
   "id": "9f340f81-2b12-4404-ad6e-2c17003ac5b4",
   "metadata": {},
   "outputs": [],
   "source": [
    "#Your Code Here"
   ]
  },
  {
   "cell_type": "markdown",
   "id": "bf0b7f3f-33d5-415e-b484-353aeba009a9",
   "metadata": {},
   "source": [
    "2. Display the first 6 rows of the dataframe."
   ]
  },
  {
   "cell_type": "code",
   "execution_count": 2,
   "id": "3f28a94c-869c-4e93-b7a3-a47dc8b7cdd1",
   "metadata": {},
   "outputs": [],
   "source": [
    "#Your Code Here"
   ]
  },
  {
   "cell_type": "markdown",
   "id": "62c95d85-4543-4ee1-baae-eb1960b339f6",
   "metadata": {},
   "source": [
    "3. Show a random sample of 10 rows from your dataframe."
   ]
  },
  {
   "cell_type": "code",
   "execution_count": 3,
   "id": "d44f8e7c-2ff0-4b9d-bbdc-8d6f2140b3de",
   "metadata": {},
   "outputs": [],
   "source": [
    "#Your Code Here"
   ]
  },
  {
   "cell_type": "markdown",
   "id": "8de01b35-056f-449d-9c36-1ee37039ab61",
   "metadata": {},
   "source": [
    "4. What are **two historical questions** about this list of passengers that you could answer using Pandas?"
   ]
  },
  {
   "cell_type": "markdown",
   "id": "e481cd00-22da-49e7-b29f-66574e2643aa",
   "metadata": {},
   "source": [
    "Your answer here."
   ]
  },
  {
   "cell_type": "markdown",
   "id": "d411ac05-ff3f-45cc-9e1a-709ea68f5387",
   "metadata": {},
   "source": [
    "## Analyzing the Data"
   ]
  },
  {
   "cell_type": "markdown",
   "id": "421c48fa-2e5f-487a-bc4f-3c5dba3ffef6",
   "metadata": {},
   "source": [
    "5. Calculate \"summary statistics\" for the passenger data."
   ]
  },
  {
   "cell_type": "code",
   "execution_count": 4,
   "id": "c9e0047b-67f2-4685-9e47-8df6fe77a4fc",
   "metadata": {},
   "outputs": [],
   "source": [
    "#Your Code Here"
   ]
  },
  {
   "cell_type": "markdown",
   "id": "adc4b799-282d-47fc-8ec1-98b9a6ac9137",
   "metadata": {},
   "source": [
    "6. Looking at the summary statistics, answer the following questions: \n",
    "- What is the most frequently occuring last name?\n",
    "- How often does the most frequently occuring last name appear?\n",
    "- How many different *kinds* of occupations are listed in the data?\n",
    "- How old is the oldest passenger?"
   ]
  },
  {
   "cell_type": "markdown",
   "id": "dd1a33c3-f884-47d2-bad6-b7ac1a85f88f",
   "metadata": {},
   "source": [
    "Your answers here:\n",
    "\n",
    "- \n",
    "- \n",
    "- \n",
    "- "
   ]
  },
  {
   "cell_type": "markdown",
   "id": "7f214254-b287-469b-be3d-0a18e2460ad9",
   "metadata": {},
   "source": [
    "Write code to answer: what was the **median** age of the passengers?"
   ]
  },
  {
   "cell_type": "code",
   "execution_count": 5,
   "id": "bf0458e4-892e-497b-9543-92ef66e3e80b",
   "metadata": {},
   "outputs": [],
   "source": [
    "#Your Code Here"
   ]
  },
  {
   "cell_type": "markdown",
   "id": "253a1523-01a2-4be3-ac86-081b3d43d495",
   "metadata": {},
   "source": [
    "7. What were the **ten most frequent cities** that passengers were traveling to and how many of them were going to each of these cities?"
   ]
  },
  {
   "cell_type": "code",
   "execution_count": 6,
   "id": "3edd1315-f228-41b0-905f-6e2709033889",
   "metadata": {},
   "outputs": [],
   "source": [
    "#Your Code Here"
   ]
  },
  {
   "cell_type": "markdown",
   "id": "56e06642-451d-4999-8857-ea15c0df3148",
   "metadata": {},
   "source": [
    "8. Follow [Walsh's example](https://melaniewalsh.github.io/Intro-Cultural-Analytics/03-Data-Analysis/01-Pandas-Basics-Part1.html#:~:text=in%20the%201840s.-,Make%20and%20Save%20Plots,-%C2%B6) and adapt her code to make a bar chart of the **top ten most frequent destination cities** based on **how many passengers** were going to each of them."
   ]
  },
  {
   "cell_type": "code",
   "execution_count": 7,
   "id": "e0d535a4-fcd5-422f-873b-ba98257967fa",
   "metadata": {},
   "outputs": [],
   "source": [
    "#Your Code Here"
   ]
  },
  {
   "cell_type": "markdown",
   "id": "18768b2f-ee7b-4d2c-8587-208b25714938",
   "metadata": {},
   "source": [
    "9. Where were passengers coming from? Print out **the most frequent countries** they were immigrating from and how many passengers were coming from each country. Hint: `value_counts()` and index."
   ]
  },
  {
   "cell_type": "code",
   "execution_count": 8,
   "id": "159cf023-a193-4343-8adf-4253d0f717d7",
   "metadata": {},
   "outputs": [],
   "source": [
    "#Your Code Here"
   ]
  },
  {
   "cell_type": "markdown",
   "id": "217cb633-ef39-4479-ba19-7e556ebc85a3",
   "metadata": {},
   "source": [
    "10. Make a pie chart showing **how many passengers were coming from each country**. Adapt [Walsh's example](https://melaniewalsh.github.io/Intro-Cultural-Analytics/03-Data-Analysis/01-Pandas-Basics-Part1.html#:~:text=To%20make%20a%20pie%20chart%2C)."
   ]
  },
  {
   "cell_type": "code",
   "execution_count": 9,
   "id": "860a204a-8060-4845-bee5-022da95592d2",
   "metadata": {},
   "outputs": [],
   "source": [
    "#Your Code Here"
   ]
  },
  {
   "cell_type": "markdown",
   "id": "596ff7d6-8819-409e-874a-d29421e03b62",
   "metadata": {},
   "source": [
    "11. Create a new variable called `children_filter` and assign it a True/False statement to that variable that specifies passengers who were **children**. Then use this new `children_filter` to create a new dataframe called `children_df` that **only contains passengers who were children**. Display a sample of **five random rows** from this new dataframe. Hint: look under the `occupation` column in your dataframe. Hint: [Walsh example](https://melaniewalsh.github.io/Intro-Cultural-Analytics/03-Data-Analysis/01-Pandas-Basics-Part1.html#:~:text=it%20can%20be%20helpful%20to%20make%20a%20separate%20variable%20for%20a%20filter)."
   ]
  },
  {
   "cell_type": "code",
   "execution_count": 10,
   "id": "2d4e1e97-59ab-40a5-962c-8b957b4bc317",
   "metadata": {
    "tags": []
   },
   "outputs": [],
   "source": [
    "#Your Code Here"
   ]
  },
  {
   "cell_type": "markdown",
   "id": "fe39a415-beed-4174-8129-fd7e4d687f0a",
   "metadata": {},
   "source": [
    "12. What was the cut-off age for classifying a passenger as a child? Ie. What was **the oldest a passenger could be to still be considered a child**? Write code that prints out the answer to this question."
   ]
  },
  {
   "cell_type": "code",
   "execution_count": 11,
   "id": "31f2ea0a-bfed-4c7c-b0ac-48b07c5c4e95",
   "metadata": {},
   "outputs": [],
   "source": [
    "#Your Code Here"
   ]
  },
  {
   "cell_type": "markdown",
   "id": "744af8b9-09b8-4b31-ab3f-57aa1e7cce88",
   "metadata": {},
   "source": [
    "13. Create a new CSV file named `passenger-list-children.csv` that only contains records for passengers who were children. Hint: you'll be printing the contents of `children_df` to a CSV file using `to_csv()` method. [Walsh example](https://melaniewalsh.github.io/Intro-Cultural-Analytics/03-Data-Analysis/01-Pandas-Basics-Part1.html#:~:text=To%20output%20a%20new%20CSV%20file).\n",
    "\n",
    "To check to make sure you successfully created the file, add a line of code that reads in the newly created CSV file using `pd.read_csv()`."
   ]
  },
  {
   "cell_type": "code",
   "execution_count": 12,
   "id": "b51ba412-e369-44b1-ba5c-e04fe51a30e9",
   "metadata": {},
   "outputs": [],
   "source": [
    "#Your Code Here"
   ]
  }
 ],
 "metadata": {
  "kernelspec": {
   "display_name": "Python 3",
   "language": "python",
   "name": "python3"
  },
  "language_info": {
   "codemirror_mode": {
    "name": "ipython",
    "version": 3
   },
   "file_extension": ".py",
   "mimetype": "text/x-python",
   "name": "python",
   "nbconvert_exporter": "python",
   "pygments_lexer": "ipython3",
   "version": "3.8.8"
  },
  "toc-autonumbering": false,
  "toc-showmarkdowntxt": false,
  "toc-showtags": false
 },
 "nbformat": 4,
 "nbformat_minor": 5
}
