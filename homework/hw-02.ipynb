{
 "cells": [
  {
   "cell_type": "markdown",
   "metadata": {},
   "source": [
    "# Homework #2"
   ]
  },
  {
   "cell_type": "markdown",
   "metadata": {
    "tags": []
   },
   "source": [
    "Student Name: *Your name here*   \n",
    "(Double-click this cell to type)"
   ]
  },
  {
   "cell_type": "markdown",
   "metadata": {
    "tags": []
   },
   "source": [
    "---\n",
    "This homework assignment will help you open files in Python and work with their contexts as strings (text). Answer the questions below and follow the instructions. When you're finished, you should follow [the instructions on the course website](https://cblevins.github.io/f21-data/assignments/coding-homework/) to submit it to Canvas. \n",
    "\n",
    "To keep things organized on your computer, please make a new sub-folder named `hw-02` inside your main class `data-a-user-manual` folder and save this notebook inside that folder. *Note: in addition to submitting your final .ipynb and PDF files to Canvas, please create a zipped file of your hw-02 folder and submit it to Canvas.*\n",
    "\n",
    "For help with this homework, refer to the chapters [String Methods](https://melaniewalsh.github.io/Intro-Cultural-Analytics/02-Python/06-String-Methods.html), [Files and Character Encoding](https://melaniewalsh.github.io/Intro-Cultural-Analytics/02-Python/07-Files-Character-Encoding.html), and [Comparisons and Conditionals](https://melaniewalsh.github.io/Intro-Cultural-Analytics/02-Python/08-Comparisons-Conditionals.html)."
   ]
  },
  {
   "cell_type": "markdown",
   "metadata": {},
   "source": [
    "## Download the Data"
   ]
  },
  {
   "cell_type": "markdown",
   "metadata": {},
   "source": [
    "You're going to analyze two historical documents in this homework. Rather than provide them for you, I want you to get some experience locating and downloading files \"in the wild\" and importing them into Python. For today we're going to use the Internet Archive, which is a large repository of material - including texts. \n",
    "\n",
    "In keeping with the theme of our first unit for the semester, **Slavery and Data**, I've chosen two 19th-century narratives written by formerly enslaved people: [Sojourner Truth](https://archive.org/details/narrativeofsojou1850gilb) and [Henry \"Box\" Brown](https://archive.org/details/narrativeofhenry00brow). The goal is to download two text files (ending in `.txt`) of these two books from the Internet Archive and put them inside your `data` folder. Use this page to try and figure out how to download the raw `.txt` file of the two narratives: <https://help.archive.org/hc/en-us/articles/360017781111-How-to-download-files>. Once you have them downloaded, rename the files `truth.txt` and `brown.txt`.\n",
    "\n",
    "You should now have a `hw-02` folder consisting of:\n",
    "\n",
    "- This Jupyter Notebook\n",
    "- A folder called `data`\n",
    "- Two `.txt` files inside your `data` folder containing the text of these two narratives: `truth.txt` and `brown.txt`."
   ]
  },
  {
   "cell_type": "markdown",
   "metadata": {},
   "source": [
    "*Bonus: rather than downloading the two .txt files manually, [adapt the code from these examples](https://python.omics.wiki/www/download-webpage) to use Python's `urllib` package to download and rename them. Put your code in the following cell.*"
   ]
  },
  {
   "cell_type": "code",
   "execution_count": null,
   "metadata": {},
   "outputs": [],
   "source": [
    "#Bonus Code Cell\n",
    "#Your Code Here"
   ]
  },
  {
   "cell_type": "markdown",
   "metadata": {},
   "source": [
    "## Load and Process the Data"
   ]
  },
  {
   "cell_type": "markdown",
   "metadata": {},
   "source": [
    "You've downloaded the files containing the raw text of the narratives by Sojourner Truth and Henry Brown. The next step is to open these files in Python and wrangle them into a format you can analyze.\n",
    "\n",
    "Use the `open()` and `read()` functions to get the content of each of these files into Python, assigning them the corresponding variable names of `truth_fulltext` and `brown_fulltext`."
   ]
  },
  {
   "cell_type": "code",
   "execution_count": null,
   "metadata": {},
   "outputs": [],
   "source": [
    "#Your Code Here"
   ]
  },
  {
   "cell_type": "markdown",
   "metadata": {},
   "source": [
    "Double check to make sure that you have made the right kind of variables. Write a single line of code that uses the `type()` function, boolean operators, and the logical operator `and` to validate that **both variables** are strings (`str`)."
   ]
  },
  {
   "cell_type": "code",
   "execution_count": null,
   "metadata": {},
   "outputs": [],
   "source": [
    "#Your Code Here"
   ]
  },
  {
   "cell_type": "markdown",
   "metadata": {},
   "source": [
    "Write two `print()` statements that show the following:\n",
    "\n",
    "- The 1000th character (letter, number, etc.) in Sojourner Truth's narrative \n",
    "- The characters in between the number 3278 and 3298 character in Henry Brown's narrative\n",
    "\n",
    "Hint: use the index and slice approaches for strings: <https://melaniewalsh.github.io/Intro-Cultural-Analytics/02-Python/06-String-Methods.html>."
   ]
  },
  {
   "cell_type": "code",
   "execution_count": null,
   "metadata": {},
   "outputs": [],
   "source": [
    "#Your Code Here"
   ]
  },
  {
   "cell_type": "markdown",
   "metadata": {},
   "source": [
    "If you look at each narrative on the Internet Archive, you'll notice that there are several pages in the beginning before the actual narratives start, including the title page and a preface written by other people besides Truth and Brown. We're going to remove this material so the texts contain (mostly) just the narratives themselves. To do so, we need to figure out where the narratives actually begin inside the text file. In Truth's case, it starts on [this page](https://archive.org/details/narrativeofsojou1850gilb/page/n11/mode/2up) with the words \"The subject of this biography\". Brown's begins on [this page](https://archive.org/details/narrativeofhenry00brow/page/n11/mode/2up) with the words \"\"I AM not about to harrow the feelings of my readers\". Our goal is to lop off everything in our text **before** these phrases.\n",
    "\n",
    "To do so, we're going to use the `index()` function. Remember that each character has a number associated with its position within the entire string of text - ex. in the above exercise you found the 1000th character in Truth's narrative. We're going reverse engineer this by finding the number or (index) of where a certain phrase begins."
   ]
  },
  {
   "cell_type": "code",
   "execution_count": null,
   "metadata": {},
   "outputs": [],
   "source": [
    "print(\"Truth's narrative begins at character:\", truth_fulltext.index(\"The subject of this biography\"))"
   ]
  },
  {
   "cell_type": "markdown",
   "metadata": {},
   "source": [
    "In this case, using `index()` shows us the starting position of Truth's narrative: the 11,664th character. Do the same thing with Henry Brown's narrative, substituting: a) the correct string variable containing his full text and b) opening phrase of his narrative."
   ]
  },
  {
   "cell_type": "code",
   "execution_count": null,
   "metadata": {},
   "outputs": [],
   "source": [
    "#Your Code Here"
   ]
  },
  {
   "cell_type": "markdown",
   "metadata": {},
   "source": [
    "Now that we have the index position where each narrative begins, we're going to lop off the beginning of the texts. Or, more precisely, we're going to create a new string variable that only contains the text from the beginning of the narrative onwards. Take the two numbers (index positions) you found above for each text and use the **slice** concept in [String Methods](https://melaniewalsh.github.io/Intro-Cultural-Analytics/02-Python/06-String-Methods.html) to create two new variables: `truth` and `brown` that contain *only* the text from those points onwards. Then add two print() statements that print out the first 50 characters of your new string variables. They should begin with the correct opening phrases."
   ]
  },
  {
   "cell_type": "code",
   "execution_count": null,
   "metadata": {},
   "outputs": [],
   "source": [
    "#Your Code Here"
   ]
  },
  {
   "cell_type": "markdown",
   "metadata": {},
   "source": [
    "## Analyze the Data"
   ]
  },
  {
   "cell_type": "markdown",
   "metadata": {},
   "source": [
    "Suppose we want to compare how long each narrative is measured by the number of lines in each text. First, use the `split()` function for each narrative to break it apart by each new line. The new line character is `\\n`. Make two new variables storing a list of the broken apart text: `truth_lines` and `brown_lines`."
   ]
  },
  {
   "cell_type": "code",
   "execution_count": null,
   "metadata": {},
   "outputs": [],
   "source": [
    "#Your Code Here"
   ]
  },
  {
   "cell_type": "markdown",
   "metadata": {},
   "source": [
    "Which narrative has more lines? You can calculate how many lines are in each narrative through the `len()` function which will calculate the **length** of each list of lines you made in the previous section. Use two print() statements to show how many lines are in each narrative. Then add a third print() statement that calculates the difference between these two number of lines."
   ]
  },
  {
   "cell_type": "code",
   "execution_count": null,
   "metadata": {},
   "outputs": [],
   "source": [
    "#Your Code Here"
   ]
  },
  {
   "cell_type": "markdown",
   "metadata": {},
   "source": [
    "Combine the `len()` and `comparison` functions with an `if statement` to print either `Sojourner Truth's narrative has more lines` or `Henry Brown's narrative has more lines` based on which has more lines.]"
   ]
  },
  {
   "cell_type": "code",
   "execution_count": null,
   "metadata": {},
   "outputs": [],
   "source": [
    "#Your Code Here"
   ]
  },
  {
   "cell_type": "markdown",
   "metadata": {},
   "source": [
    "## Putting it Together"
   ]
  },
  {
   "cell_type": "markdown",
   "metadata": {},
   "source": [
    "To practice the skills you learned, you're going to recreate some of the above steps with a totally new document: [*Narrative of the Life of Frederick Douglass*](https://archive.org/details/narrativeoflifeo1846doug). \n",
    "\n",
    "Your goal:\n",
    "- Download the text file of Douglass's narrative into the `data` folder and name it `douglass.txt`\n",
    "- Open the text file in Python\n",
    "- Slice off the beginning of the narrative so that your new text variable starts with \"I WAS born in Tuckahoe\"\n",
    "- Calculate the length of Douglass's narrative. Instead of looking at the number of **lines**, however, you're going to measure this by the number of **words**. \n",
    "- Compare the length of Douglass's narrative in **words** to the length of Truth's narrative in **words** using a similar `if statement` as you used to compare Truth and Brown's narratives measured by lines.\n",
    "\n",
    "Insert multiple cells below corresponding to these different steps, alternating one Markdown cell with one code cell. In the Markdown cell, explain in a few words what the next code cell is doing."
   ]
  }
 ],
 "metadata": {
  "kernelspec": {
   "display_name": "Python 3",
   "language": "python",
   "name": "python3"
  },
  "language_info": {
   "codemirror_mode": {
    "name": "ipython",
    "version": 3
   },
   "file_extension": ".py",
   "mimetype": "text/x-python",
   "name": "python",
   "nbconvert_exporter": "python",
   "pygments_lexer": "ipython3",
   "version": "3.8.8"
  },
  "toc-autonumbering": false
 },
 "nbformat": 4,
 "nbformat_minor": 4
}
