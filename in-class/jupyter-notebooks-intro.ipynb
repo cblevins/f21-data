{
 "cells": [
  {
   "cell_type": "markdown",
   "metadata": {},
   "source": [
    "### Getting Started With Jupyter Notebooks"
   ]
  },
  {
   "cell_type": "markdown",
   "metadata": {},
   "source": [
    "We're going to be using Jupyter Notebooks to write and run Python code. Jupyter notebooks are made up of cells - a chunk of text or code, kind of like a paragraph. There are a few different types of cells: Markdown vs. Code. This particular cell is an example of a **Markdown** cell. It's like writing normal text, but I can tweak things a little bit like writing in bold or italics or inserting hyperlinks.\n",
    "\n",
    "In Python, you run/execute a **code** cell using Shift-Enter or by pressing the Run button in the toolbar. Make sure your cursor is inside the following code cell by clicking inside it, and then try running the code cell:"
   ]
  },
  {
   "cell_type": "code",
   "execution_count": 34,
   "metadata": {},
   "outputs": [
    {
     "name": "stdout",
     "output_type": "stream",
     "text": [
      "Welcome to HIST 4261/5261!\n"
     ]
    }
   ],
   "source": [
    "print(\"Welcome to HIST 4261/5261!\")"
   ]
  },
  {
   "cell_type": "markdown",
   "metadata": {},
   "source": [
    "The above code uses the ```print``` function to print out whatever is inside the parentheses. With a lot of programming languages, print doesn’t mean “print something on paper”; it means “show me this on the screen.”\n",
    "Try writing code in the next empty cell that, when you run it, **will print your full name.**"
   ]
  },
  {
   "cell_type": "code",
   "execution_count": null,
   "metadata": {},
   "outputs": [],
   "source": [
    "#This is a \"comment\" - when you start a line inside a code cell with a #, it tells Python to ignore it.\n",
    "#This is way to annotate or explain your code to a reader. It's kind of like a footnote. Kind of.\n",
    "#Write your code to print your name on the line below this one, then run the cell to see the output.\n"
   ]
  },
  {
   "cell_type": "markdown",
   "metadata": {},
   "source": [
    "Compared to the above cell, this is a markdown cell. Insert a new **Markdown cell** below this one and then try to write the following using Markdown syntax. Run the cell as you go to see if it is rendering properly.\n",
    "\n",
    "- Write your name and make it bold.\n",
    "- Write the title of this class and turn it into a hyperlink to the course website.\n"
   ]
  },
  {
   "cell_type": "markdown",
   "metadata": {},
   "source": [
    "----"
   ]
  },
  {
   "cell_type": "markdown",
   "metadata": {},
   "source": [
    "### Adapting Existing Code"
   ]
  },
  {
   "cell_type": "markdown",
   "metadata": {},
   "source": [
    "One of the secrets of coding is that a lot of it involves taking code that other people have already written and adapting it for your own use. Might as well start early! Go to this page: <https://python.omics.wiki/www/download-webpage>. This is giving you example snippets of Python code that help you work with websites. For today, don't worry about understanding what each word means. Instead, copy the first four lines of code under # Python3 and paste it into a **new code cell** that you insert below this one. Try running the code and see if it works"
   ]
  },
  {
   "cell_type": "markdown",
   "metadata": {},
   "source": [
    "These lines of code are accessing and reading a website: `http://www.example.org/`. Try to change the code in the above cell to point it towards a different website: <https://cblevins.github.io/f21-data/in-class/command-line/>."
   ]
  },
  {
   "cell_type": "markdown",
   "metadata": {},
   "source": [
    "----"
   ]
  },
  {
   "cell_type": "markdown",
   "metadata": {},
   "source": [
    "Another chunk of code on <https://python.omics.wiki/www/download-webpage> allows you to download a webpage directly to your computer (similar to the `curl` command on the command line). Copy and paste the two lines of code under # save as local file 'webpage.html' into a new code cell below this one and try runnning it - once again changing the code to point towards <https://cblevins.github.io/f21-data/in-class/command-line/>. "
   ]
  },
  {
   "cell_type": "markdown",
   "metadata": {},
   "source": [
    "-----"
   ]
  },
  {
   "cell_type": "markdown",
   "metadata": {},
   "source": [
    "If you did so successfully, you should have a new file in this folder called `webpage.html`. In the left panel in Jupyter Lab, right click on the file -> Open With -> Editor. You can now see what a \"raw\" HTML file looks like for a webpage. Compare this to what the \"rendered\" page looks like: https://cblevins.github.io/f21-data/in-class/command-line/. As a class we will go through the HTML file together to understand the basic tag system used by webpages."
   ]
  },
  {
   "cell_type": "markdown",
   "metadata": {},
   "source": [
    "----"
   ]
  },
  {
   "cell_type": "markdown",
   "metadata": {},
   "source": [
    "One more example. Go back to <https://python.omics.wiki/www/download-webpage> and copy and paste the four lines of code under # extract webpage title into a new code cell and run the cell. "
   ]
  },
  {
   "cell_type": "markdown",
   "metadata": {},
   "source": [
    "----"
   ]
  },
  {
   "cell_type": "markdown",
   "metadata": {},
   "source": [
    "Go back and look at the \"raw\" file you downloaded (webpage.html) in Jupyter Lab. Then use Edit -> Find to look for the `<title>` tag. Can you try and figure out how to alter the code so that instead of printing the page title - `The Command Line – Data: A User Manual – University of Colorado Denver, Fall 2021` - it prints out anything that is part of a bulleted list? You might need to compare the HTML file to the [rendered webpage](https://cblevins.github.io/f21-data/in-class/command-line/)."
   ]
  },
  {
   "cell_type": "markdown",
   "metadata": {},
   "source": [
    "----"
   ]
  },
  {
   "cell_type": "markdown",
   "metadata": {},
   "source": [
    "----"
   ]
  },
  {
   "cell_type": "markdown",
   "metadata": {},
   "source": [
    "Answers below if you get stuck..."
   ]
  },
  {
   "cell_type": "code",
   "execution_count": 60,
   "metadata": {
    "tags": []
   },
   "outputs": [
    {
     "name": "stdout",
     "output_type": "stream",
     "text": [
      "<!doctype html>\n",
      "<html lang=\"en\">\n",
      "  <head>\n",
      "    <meta charset=\"utf-8\" />\n",
      "<meta content='text/html; charset=utf-8' http-equiv='Content-Type'>\n",
      "<meta http-equiv='X-UA-Compatible' content='IE=edge'>\n",
      "<meta name='viewport' content='width=device-width, initial-scale=1.0, maximum-scale=1.0'>\n",
      "\n",
      "\n",
      "<meta name=\"description\" content=\"University of Colorado Denver, Fall 2021\">\n",
      "<meta property=\"og:description\" content=\"University of Colorado Denver, Fall 2021\" />\n",
      "\n",
      "<meta name=\"author\" content=\"Data: A User Manual\" />\n",
      "\n",
      "\n",
      "<meta property=\"og:title\" content=\"The Command Line\" />\n",
      "<meta property=\"twitter:title\" content=\"The Command Line\" />\n",
      "\n",
      "\n",
      "\n",
      "    <title>The Command Line – Data: A User Manual – University of Colorado Denver, Fall 2021</title>\n",
      "\n",
      "    <link rel=\"stylesheet\" type=\"text/css\" href=\"/f21-data/style.css\"/>\n",
      "    <link rel=\"stylesheet\" type=\"text/css\" href=\"https://unpkg.com/ress/dist/ress.min.css\"/>\n",
      "    <link rel=\"apple-touch-icon\" sizes=\"57x57\" href=\"/assets/image/favicon-57x57.png\">\n",
      "    <link rel=\"apple-touch-icon\" sizes=\"60x60\" href=\"/assets/image/favicon-60x60.png\">\n",
      "    <link rel=\"apple-touch-icon\" sizes=\"72x72\" href=\"/assets/image/favicon-72x72.png\">\n",
      "    <link rel=\"apple-touch-icon\" sizes=\"76x76\" href=\"/assets/image/favicon-76x76.png\">\n",
      "    <link rel=\"apple-touch-icon\" sizes=\"114x114\" href=\"/assets/image/favicon-114x114.png\">\n",
      "    <link rel=\"apple-touch-icon\" sizes=\"120x120\" href=\"/assets/image/favicon-120x120.png\">\n",
      "    <link rel=\"apple-touch-icon\" sizes=\"144x144\" href=\"/assets/image/favicon-144x144.png\">\n",
      "    <link rel=\"apple-touch-icon\" sizes=\"152x152\" href=\"/assets/image/favicon-152x152.png\">\n",
      "    <link rel=\"apple-touch-icon\" sizes=\"180x180\" href=\"/assets/image/favicon-180x180.png\">\n",
      "    <link rel=\"icon\" type=\"image/png\" sizes=\"16x16\" href=\"/assets/image/favicon-16x16.png\">\n",
      "    <link rel=\"icon\" type=\"image/png\" sizes=\"32x32\" href=\"/assets/image/favicon-32x32.png\">\n",
      "    <link rel=\"icon\" type=\"image/png\" sizes=\"96x96\" href=\"/assets/image/favicon-96x96.png\">\n",
      "    <link rel=\"icon\" type=\"image/png\" sizes=\"192x192\" href=\"/assets/image/favicon-192x192.png\">\n",
      "    <link rel=\"shortcut icon\" type=\"image/x-icon\" href=\"/assets/image/favicon.ico\">\n",
      "    <link rel=\"icon\" type=\"image/x-icon\" href=\"/f21-data/assets/image/favicon.ico\">\n",
      "    <meta name=\"msapplication-TileColor\" content=\"#ffffff\">\n",
      "    <meta name=\"msapplication-TileImage\" content=\"/assets/image/favicon-144x144.png\">\n",
      "    <meta name=\"msapplication-config\" content=\"/assets/image/browserconfig.xml\">\n",
      "    <meta name=\"theme-color\" content=\"#ffffff\">\n",
      "    <link rel=\"alternate\" type=\"application/rss+xml\" title=\"Data: A User Manual - University of Colorado Denver, Fall 2021\" href=\"/f21-data/feed.xml\"/>\n",
      "    <link rel=\"stylesheet\" href=\"https://cdn.jsdelivr.net/npm/fork-awesome@1.1.7/css/fork-awesome.min.css\" integrity=\"sha256-gsmEoJAws/Kd3CjuOQzLie5Q3yshhvmo7YNtBG7aaEY=\" crossorigin=\"anonymous\">\n",
      "    <link rel=\"stylesheet\" href=\"https://cdn.plyr.io/3.6.4/plyr.css\"/>\n",
      "    <link rel=\"stylesheet\" href=\"https://cdn.jsdelivr.net/npm/glightbox/dist/css/glightbox.min.css\"/>\n",
      "    <link rel=\"stylesheet\" href=\"https://cdn.jsdelivr.net/npm/katex@0.13.11/dist/katex.min.css\" integrity=\"sha384-Um5gpz1odJg5Z4HAmzPtgZKdTBHZdw8S29IecapCSB31ligYPhHQZMIlWLYQGVoc\" crossorigin=\"anonymous\">\n",
      "\n",
      "  </head>\n",
      "\n",
      "  <body>\n",
      "    <div class=\"wrapper-masthead\">\n",
      "      <div class=\"container\">\n",
      "        <header class=\"masthead clearfix\">\n",
      "          <a href=\"/f21-data/\" class=\"site-avatar\"><img src=\"/f21-data/assets/image/cu-logo.png\"/></a>\n",
      "\n",
      "          <div class=\"site-info\">\n",
      "            <h1 class=\"site-name\"><a href=\"/f21-data/\">Data: A User Manual</a></h1>\n",
      "            <p class=\"site-description\">University of Colorado Denver, Fall 2021</p>\n",
      "          </div>\n",
      "\n",
      "          <nav class=\"nav-menu\">\n",
      "            \n",
      "  <a class=\"nav-menu-item\"<a href=\"/f21-data/schedule\">Schedule</a>\n",
      "\n",
      "  <a class=\"nav-menu-item\"<a href=\"/f21-data/assignments\">Assignments</a>\n",
      "\n",
      "  <a class=\"nav-menu-item\"<a href=\"/f21-data/policies\">Policies</a>\n",
      "\n",
      "\n",
      "          </nav>\n",
      "        </header>\n",
      "      </div>\n",
      "    </div>\n",
      "\n",
      "    <div id=\"main\" role=\"main\" class=\"container\">\n",
      "      <article class=\"page\">\n",
      "\n",
      "  <h1>The Command Line</h1>\n",
      "\n",
      "  <div class=\"entry\">\n",
      "    <p>Today we’re going to be practicing how to work with the command line!</p>\n",
      "\n",
      "<h3 id=\"part-1\">Part 1</h3>\n",
      "\n",
      "<p>Go through <a href=\"https://info1350.github.io/Intro-CA-SP21/01-Command-Line/01-The-Command-Line.html\">The Command Line</a> from Melanie Walsh, <em>Introduction to Cultural Analytics &amp; Python</em> textbook. Stop when you get to the section “Working with Files and Texts.” Now try to put into practice what you’ve learned! Launch the command line on your computer and then use it to complete the following:</p>\n",
      "\n",
      "<ul>\n",
      "  <li>Print the current directory and make sure you are in your home folder. There should be something like /User/yourlogin/ or</li>\n",
      "  <li>If for some reason you are not in your home folder, then run <code class=\"language-plaintext highlighter-rouge\">cd ~</code></li>\n",
      "  <li>Show all the folders/files in your home folder.</li>\n",
      "  <li>Make a new directory in your home folder called <code class=\"language-plaintext highlighter-rouge\">data</code></li>\n",
      "  <li>Wait, that’s way too general a name. Use the command line to delete the <code class=\"language-plaintext highlighter-rouge\">data</code> folder</li>\n",
      "  <li>Make a new directory in your home folder called <code class=\"language-plaintext highlighter-rouge\">data-a-user-manual</code>. This is going to be the starting point for your work in this class moving forward.</li>\n",
      "  <li>Show all the folders/files in your home folder. <em>Is there now a folder called <code class=\"language-plaintext highlighter-rouge\">data-a-user-manual</code>?</em></li>\n",
      "  <li>Navigate so that you’re inside <code class=\"language-plaintext highlighter-rouge\">data-a-user-manual</code> folder.</li>\n",
      "  <li>Create a new folder inside <code class=\"language-plaintext highlighter-rouge\">data-a-user-manual</code> called <code class=\"language-plaintext highlighter-rouge\">command-line</code>.</li>\n",
      "  <li>Navigate inside <code class=\"language-plaintext highlighter-rouge\">command-line</code></li>\n",
      "  <li>Now navigate back UP one folder to <code class=\"language-plaintext highlighter-rouge\">data-a-user-manual</code></li>\n",
      "</ul>\n",
      "\n",
      "<p>Let Professor Blevins know if you’re running into any issues!</p>\n",
      "\n",
      "<h3 id=\"part-2\">Part 2</h3>\n",
      "\n",
      "<p>Continue through <a href=\"https://info1350.github.io/Intro-CA-SP21/01-Command-Line/01-The-Command-Line.html\">The Command Line</a>, starting with  “Working with Files and Texts” and going through to the end. Now try to put into practice what you’ve learned! Go back to the command line on your computer and then use it to complete the following:</p>\n",
      "\n",
      "<ul>\n",
      "  <li>Navigate to <code class=\"language-plaintext highlighter-rouge\">command-line</code> folder you created.</li>\n",
      "  <li>Use the <code class=\"language-plaintext highlighter-rouge\">curl</code> command to download into your folder the raw text file (ending in .txt) for Harriet Jacobs <em>Incidents in the Life of a Slave Girl, Written by Herself</em> from Project Gutenberg: <a href=\"https://gutenberg.org/ebooks/11030\">https://gutenberg.org/ebooks/11030</a>.\n",
      "    <ul>\n",
      "      <li>Hint 1: you need to find a URL for the “Plain Text” of this book. Look at Walsh’s example of <em>The Yellow Wallpaper</em> and see if you can figure out how to do this with a different text.</li>\n",
      "      <li>Hint 2: If it’s just displaying the text of  the file but not downloading it, you might need to add the following to your curl command: <code class=\"language-plaintext highlighter-rouge\">--output 11030-0.txt</code></li>\n",
      "    </ul>\n",
      "  </li>\n",
      "  <li>Check to make sure you downloaded the file by showing the contents of your folder</li>\n",
      "  <li>Rename  the file you just downloaded <code class=\"language-plaintext highlighter-rouge\">jacobs.txt</code>. Check to make sure it worked by showing the contents of your folder.</li>\n",
      "  <li>How many <strong>words</strong> are in the text you just downloaded?</li>\n",
      "  <li>How many <strong>lines</strong> are in the text you just downloaded?</li>\n",
      "  <li>Use <code class=\"language-plaintext highlighter-rouge\">grep</code> command to display:\n",
      "    <ul>\n",
      "      <li>Every line in your file where Jacobs writes “God”</li>\n",
      "      <li>The line number</li>\n",
      "      <li>The word “God” colored in red</li>\n",
      "    </ul>\n",
      "  </li>\n",
      "  <li>How many times does Jacobs use the word “God”?</li>\n",
      "</ul>\n",
      "\n",
      "\n",
      "  </div>\n",
      "</article>\n",
      "\n",
      "    </div>\n",
      "\n",
      "    <div class=\"wrapper-footer\">\n",
      "      <div class=\"container\">\n",
      "        <footer class=\"footer\"><div class=\"copyright\">\n",
      "            \n",
      "            <p><a href=\"https://cameronblevins.org\">Cameron Blevins</a>, University of Colorado Denver (Fall 2021)<br />Jekyll theme <a href=\"https://github.com/forever-jekyll\">Forever Jekyll</a></p>\n",
      "\n",
      "            \n",
      "          </div>\n",
      "        </footer>\n",
      "      </div>\n",
      "    </div>\n",
      "\n",
      "    <script src=\"https://cdn.plyr.io/3.6.4/plyr.polyfilled.js\"></script>\n",
      "    <script>\n",
      "      const player = new Plyr('#player');\n",
      "    </script>\n",
      "    <script src=\"https://cdn.jsdelivr.net/gh/mcstudios/glightbox/dist/js/glightbox.min.js\"></script>\n",
      "    <script type=\"text/javascript\">\n",
      "      const lightbox = GLightbox({\n",
      "          touchNavigation: true,\n",
      "          loop: true,\n",
      "          autoplayVideos: true\n",
      "      });\n",
      "    </script>\n",
      "\n",
      "    <script src=\"https://cdn.jsdelivr.net/npm/mermaid/dist/mermaid.min.js\"></script>\n",
      "    <script>mermaid.initialize({startOnLoad:true});</script>\n",
      "\n",
      "    <script defer src=\"https://cdn.jsdelivr.net/npm/katex@0.13.11/dist/katex.min.js\" integrity=\"sha384-YNHdsYkH6gMx9y3mRkmcJ2mFUjTd0qNQQvY9VYZgQd7DcN7env35GzlmFaZ23JGp\" crossorigin=\"anonymous\"></script>\n",
      "    <script defer src=\"https://cdn.jsdelivr.net/npm/katex@latest/dist/contrib/auto-render.min.js\"\n",
      "            onload=\"renderMathInElement(document.body,{\n",
      "                    delimiters: [\n",
      "                    { left: '$$',  right: '$$',  display: true  },\n",
      "                    { left: '$',   right: '$',   display: false },\n",
      "                    { left: '\\\\[', right: '\\\\]', display: true  },\n",
      "                    { left: '\\\\(', right: '\\\\)', display: false }\n",
      "                    ]});\">\n",
      "    </script>\n",
      "\n",
      "  </body>\n",
      "</html>\n",
      "\n"
     ]
    }
   ],
   "source": [
    "import urllib.request\n",
    "fid=urllib.request.urlopen('https://cblevins.github.io/f21-data/in-class/command-line/')\n",
    "webpage=fid.read().decode('utf-8')\n",
    "print(webpage)"
   ]
  },
  {
   "cell_type": "code",
   "execution_count": 48,
   "metadata": {},
   "outputs": [
    {
     "data": {
      "text/plain": [
       "('webpage.html', <http.client.HTTPMessage at 0x7f85fda0d5b0>)"
      ]
     },
     "execution_count": 48,
     "metadata": {},
     "output_type": "execute_result"
    }
   ],
   "source": [
    "import urllib.request\n",
    "urllib.request.urlretrieve('https://cblevins.github.io/f21-data/in-class/command-line/', 'webpage.html')"
   ]
  },
  {
   "cell_type": "code",
   "execution_count": 65,
   "metadata": {},
   "outputs": [
    {
     "name": "stdout",
     "output_type": "stream",
     "text": [
      "Print the current directory and make sure you are in your home folder. There should be something like /User/yourlogin/ or\n",
      "If for some reason you are not in your home folder, then run <code class=\"language-plaintext highlighter-rouge\">cd ~</code>\n",
      "Show all the folders/files in your home folder.\n",
      "Make a new directory in your home folder called <code class=\"language-plaintext highlighter-rouge\">data</code>\n",
      "Wait, that’s way too general a name. Use the command line to delete the <code class=\"language-plaintext highlighter-rouge\">data</code> folder\n",
      "Make a new directory in your home folder called <code class=\"language-plaintext highlighter-rouge\">data-a-user-manual</code>. This is going to be the starting point for your work in this class moving forward.\n",
      "Show all the folders/files in your home folder. <em>Is there now a folder called <code class=\"language-plaintext highlighter-rouge\">data-a-user-manual</code>?</em>\n",
      "Navigate so that you’re inside <code class=\"language-plaintext highlighter-rouge\">data-a-user-manual</code> folder.\n",
      "Create a new folder inside <code class=\"language-plaintext highlighter-rouge\">data-a-user-manual</code> called <code class=\"language-plaintext highlighter-rouge\">command-line</code>.\n",
      "Navigate inside <code class=\"language-plaintext highlighter-rouge\">command-line</code>\n",
      "Now navigate back UP one folder to <code class=\"language-plaintext highlighter-rouge\">data-a-user-manual</code>\n",
      "Navigate to <code class=\"language-plaintext highlighter-rouge\">command-line</code> folder you created.\n",
      "Use the <code class=\"language-plaintext highlighter-rouge\">curl</code> command to download into your folder the raw text file (ending in .txt) for Harriet Jacobs <em>Incidents in the Life of a Slave Girl, Written by Herself</em> from Project Gutenberg: <a href=\"https://gutenberg.org/ebooks/11030\">https://gutenberg.org/ebooks/11030</a>.\n",
      "Hint 1: you need to find a URL for the “Plain Text” of this book. Look at Walsh’s example of <em>The Yellow Wallpaper</em> and see if you can figure out how to do this with a different text.\n",
      "Hint 2: If it’s just displaying the text of  the file but not downloading it, you might need to add the following to your curl command: <code class=\"language-plaintext highlighter-rouge\">--output 11030-0.txt</code>\n",
      "Check to make sure you downloaded the file by showing the contents of your folder\n",
      "Rename  the file you just downloaded <code class=\"language-plaintext highlighter-rouge\">jacobs.txt</code>. Check to make sure it worked by showing the contents of your folder.\n",
      "How many <strong>words</strong> are in the text you just downloaded?\n",
      "How many <strong>lines</strong> are in the text you just downloaded?\n",
      "Use <code class=\"language-plaintext highlighter-rouge\">grep</code> command to display:\n",
      "Every line in your file where Jacobs writes “God”\n",
      "The line number\n",
      "The word “God” colored in red\n",
      "How many times does Jacobs use the word “God”?\n"
     ]
    }
   ],
   "source": [
    "for line in webpage.split('\\n'):\n",
    "    if '<li>' in line:\n",
    "        pagetitle=line.split('<li>')[1].split('</li>')[0]\n",
    "        print(pagetitle)"
   ]
  },
  {
   "cell_type": "markdown",
   "metadata": {},
   "source": [
    "-----"
   ]
  },
  {
   "cell_type": "markdown",
   "metadata": {},
   "source": [
    "### Submitting Jupyter Notebooks as Coding Homeworks"
   ]
  },
  {
   "cell_type": "markdown",
   "metadata": {},
   "source": [
    "Once you've finished, we're going to pretend this is one of your coding homeworks and go through the process of submitting it to Canvas. Follow [the instructions](https://cblevins.github.io/f21-data/assignments/coding-homework/) I've made for submitting homework and then submit your files to: <https://ucdenver.instructure.com/courses/474404/assignments/1177300>. Note: use the naming convention `sample-hw-yourlastname.ipynb` & `sample-hw-yourlastname.html`. This will help us troubleshoot the pipeline for submitting to Canvas and make sure that this pipeline also works on my end."
   ]
  },
  {
   "cell_type": "code",
   "execution_count": null,
   "metadata": {},
   "outputs": [],
   "source": []
  }
 ],
 "metadata": {
  "kernelspec": {
   "display_name": "Python 3",
   "language": "python",
   "name": "python3"
  },
  "language_info": {
   "codemirror_mode": {
    "name": "ipython",
    "version": 3
   },
   "file_extension": ".py",
   "mimetype": "text/x-python",
   "name": "python",
   "nbconvert_exporter": "python",
   "pygments_lexer": "ipython3",
   "version": "3.8.8"
  }
 },
 "nbformat": 4,
 "nbformat_minor": 4
}
