{
 "cells": [
  {
   "cell_type": "markdown",
   "metadata": {},
   "source": [
    "# Homework #4"
   ]
  },
  {
   "cell_type": "markdown",
   "metadata": {
    "tags": []
   },
   "source": [
    "Student Name: *Your name here*   \n",
    "(Double-click this cell to type)"
   ]
  },
  {
   "cell_type": "markdown",
   "metadata": {
    "tags": []
   },
   "source": [
    "---\n",
    "This homework assignment will help you better learn how to use [lists and loops](https://melaniewalsh.github.io/Intro-Cultural-Analytics/02-Python/09-Lists-Loops-Part1.html), [dictionaries](https://melaniewalsh.github.io/Intro-Cultural-Analytics/02-Python/11-Dictionaries.html), and [functions](https://melaniewalsh.github.io/Intro-Cultural-Analytics/02-Python/12-Functions.html) in Python in order to work with textual data. \n",
    "\n",
    "Answer the questions below and follow the instructions. When you're finished, you should follow [the instructions on the course website](https://cblevins.github.io/f21-data/assignments/coding-homework/) to submit it to Canvas. \n",
    "\n",
    "To keep things organized on your computer, please make a new sub-folder named `hw-04` inside your main class `data-a-user-manual` folder and save this notebook inside that folder.\n"
   ]
  },
  {
   "cell_type": "markdown",
   "metadata": {},
   "source": [
    "## Getting to Know the Data"
   ]
  },
  {
   "cell_type": "markdown",
   "metadata": {},
   "source": [
    "For this week we're going to use diary entries from the diary of Martha Ballard, a midwife from Maine made famous by historian Laurel Ulrich's *A Midwife's Tale*. A project at George Mason University digitized her diary and put it online. I've done some research using the entries, and am supplying you with two years' worth of Ballard's entries (1804 and 1805). Each of her entries for these two years are contained in a separate text file that I've already preprocessed, cleaned up, and put into all lowercase for you.\n",
    "\n",
    "[Download Martha Ballard's diary entries for 1804 and 1805](https://cblevins.github.io/f21-data/homework/ballard-entries-1804-1805.zip), **unzip the file so that you have a folder** ([Windows instructions](https://www.hostinger.com/tutorials/how-to-unzip-files#:~:text=The%20Windows%20default%20support%20for%20.zip) and [Mac instructions](https://www.hostinger.com/tutorials/how-to-unzip-files#:~:text=Archive%20Utility%20is%20Mac%E2%80%99s%20built-in%20tool%20that%20handles%20the%20.zip%20format.)), then rename the folder `data` and put it inside  your `hw-04` folder. This is a directory of text files. Navigate to the `data` folder in Jupyter Lab and open up a few of the .txt files to get a feel for what sort of historical documents you will be working with and how they are structured."
   ]
  },
  {
   "cell_type": "markdown",
   "metadata": {},
   "source": [
    "1. What are some observations you have about these as **historical sources**? What jumps out at you?"
   ]
  },
  {
   "cell_type": "markdown",
   "metadata": {},
   "source": [
    "*Your answer here*"
   ]
  },
  {
   "cell_type": "markdown",
   "metadata": {},
   "source": [
    "2. Look at the filenames of these sources (ex. `18040323.txt`). Try to figure out: what information is stored in the name and how is that information structured?"
   ]
  },
  {
   "cell_type": "markdown",
   "metadata": {},
   "source": [
    "*Your answer here*"
   ]
  },
  {
   "cell_type": "markdown",
   "metadata": {},
   "source": [
    "3. Find the diary entry for February 5, 1804. What major event happened to Ballard's family that day?"
   ]
  },
  {
   "cell_type": "markdown",
   "metadata": {},
   "source": [
    "*Your answer here*"
   ]
  },
  {
   "cell_type": "markdown",
   "metadata": {},
   "source": [
    "## Wrangling the Data"
   ]
  },
  {
   "cell_type": "markdown",
   "metadata": {},
   "source": [
    "First we're going to import the `os` library (\"operating system\") which helps us work with files and folders."
   ]
  },
  {
   "cell_type": "code",
   "execution_count": 3,
   "metadata": {},
   "outputs": [],
   "source": [
    "import os"
   ]
  },
  {
   "cell_type": "markdown",
   "metadata": {},
   "source": [
    "The goal of this section is to take your hundreds of text files worth of diary entries and add them into a dictionary. Each entry in the dictionary is going to consist of a **key** that corresponds to the name of the file and a **value** that contains the contents of the file. \n",
    "\n",
    "We will be implementing hte following steps across several questions:\n",
    "\n",
    "- Make two new variables, `year_1804` and `year_1805`, and assign them to empty lists. This is where you're going to be adding individual entries for that year as items in your list.\n",
    "- Use `os.listdir()` to get a list of filenames contained in your data folder and assign it as a new variable\n",
    "- Write a `for` loop to go through your list of filenames and `open()` each diary entry read() its contents.\n",
    "- **Inside** that same `for` loop, then use an `if` statement to figure out which year the diary entry was written. Based on that, `append()` the entry to either your `year_1804` or `year_1805` list."
   ]
  },
  {
   "cell_type": "markdown",
   "metadata": {},
   "source": [
    "4. One function in this library is `os.listdir()` which will create a list of all the filenames in a folder or directory. In this case, use [this function](https://www.tutorialspoint.com/python/os_listdir.htm) to create a list called `file_names` that contains all the filenames of the diary entries in your `data` folder. Use a print() statement to print out the first 10 items in your new list to make sure you've done this correctly."
   ]
  },
  {
   "cell_type": "code",
   "execution_count": 4,
   "metadata": {},
   "outputs": [],
   "source": [
    "#Your Code Here"
   ]
  },
  {
   "cell_type": "markdown",
   "metadata": {},
   "source": [
    "5. The `os` library also contains a function `os.path.join()` to help you stitch together the paths of files (where they are located). You can use it to generate a string that corresponds to the path of a file. In this case, read the instructions for [os.path.join()](https://careerkarma.com/blog/python-os-path-join/0) and try to adapt them to create a new variable called `filepath` that stitches together two strings: a) the `data` folder, and b) the filename for January 1, 1804."
   ]
  },
  {
   "cell_type": "code",
   "execution_count": 5,
   "metadata": {},
   "outputs": [],
   "source": [
    "#Your Code Here"
   ]
  },
  {
   "cell_type": "markdown",
   "metadata": {},
   "source": [
    "6. We're eventually going to open all of the files in your directory, but with the principal \"start small\" let's start by just opening and reading one of the files. Use your new `filepath` variable you created above to open up the text file for January 1, 1804, read its contents, and store the contents as a string in a new variable called `diary_text`. Then use a print() statement to print the first ten characters from this string."
   ]
  },
  {
   "cell_type": "code",
   "execution_count": 6,
   "metadata": {},
   "outputs": [],
   "source": [
    "#Your Code Here"
   ]
  },
  {
   "cell_type": "markdown",
   "metadata": {},
   "source": [
    "7. Let's stitch together the above steps and apply them to every diary entry in the folder.\n",
    "- Create an **empty dictionary** named `diary_dictionary`\n",
    "- Set up a `for loop` to go through your `file_names` list of fileneames (ex. '18040101.txt', '18040102.txt', etc.) that you generated above.\n",
    "- **Note:** I'm going to have you add a line of code to make sure you're only looking at text files. There are sometimes \"hidden\" files in a folder (ex. on a Mac there is often a .DS_store file) that might be in our list of filenames that we want to ignore. Here is what you'll use: `if filepath.endswith(\".txt\"):`. Then proceed with the rest of your steps inside the `for loop` but indent them all under this `if` statement.\n",
    "- Inside your `for loop` (and indented under your `if` statement) you are going to do the following:\n",
    "    - Assign a new variable called `file_path` and assign it a string of the file path and name that you create using `os.path.join()`\n",
    "    - Assign a new variable called `diary_text` and assign it the contents of the file using your new variable `file_path`, `open()`, and `read()`. This should be stored as a string.\n",
    "    - Add a new item to your dictionary, with the filename as the **key** (ex. `18040101.txt`) and the contents of the file (`diary_text`) as the **value**. \n",
    "- `diary_dictionary` should now be populated with diary entries. Print out **how many entries** are in now in your dictionary (the length of the dictionary)."
   ]
  },
  {
   "cell_type": "code",
   "execution_count": 7,
   "metadata": {},
   "outputs": [
    {
     "ename": "IndentationError",
     "evalue": "unexpected indent (<ipython-input-7-7cb632409579>, line 4)",
     "output_type": "error",
     "traceback": [
      "\u001b[0;36m  File \u001b[0;32m\"<ipython-input-7-7cb632409579>\"\u001b[0;36m, line \u001b[0;32m4\u001b[0m\n\u001b[0;31m    if filepath.enddwith(\".txt\"):\u001b[0m\n\u001b[0m    ^\u001b[0m\n\u001b[0;31mIndentationError\u001b[0m\u001b[0;31m:\u001b[0m unexpected indent\n"
     ]
    }
   ],
   "source": [
    "#Your Code Here\n",
    "#Your Code Here\n",
    "    #Your Code Here\n",
    "    if filepath.endswith(\".txt\"):\n",
    "        #Your Code Here\n",
    "        #Your Code Here\n",
    "#Your Code Here"
   ]
  },
  {
   "cell_type": "markdown",
   "metadata": {},
   "source": [
    "8. Complete the following with `diary_dictionary` of entries:\n",
    "- Use the **key** to access and print the contents for Ballard's entry for **February 5, 1804**.\n",
    "- Create a new `list` of **words** in the above entry (hint: [String Methods](https://melaniewalsh.github.io/Intro-Cultural-Analytics/02-Python/06-String-Methods.html))\n",
    "- Print the number of **words** in the above entry."
   ]
  },
  {
   "cell_type": "code",
   "execution_count": 8,
   "metadata": {},
   "outputs": [],
   "source": [
    "#Your Code Here"
   ]
  },
  {
   "cell_type": "markdown",
   "metadata": {},
   "source": [
    "---\n",
    "\n",
    "**Bonus Question 1:**\n",
    "\n",
    "Let's say we want to do the same thing as Question 8 (finding the length of an entry) but we don't want to write the same code over and over. Review Walsh's [Functions chapter](https://melaniewalsh.github.io/Intro-Cultural-Analytics/02-Python/12-Functions.html). Define a new `function` that takes in one parameter (the filename of a diary entry), accesses the text of that entry, prints out the full text or that entry, and calculates and prints the length of the entry measured by **number of words.** After you've defined the function, \"call\" it for the entry written on September 22, 1805.\n"
   ]
  },
  {
   "cell_type": "code",
   "execution_count": 9,
   "metadata": {},
   "outputs": [],
   "source": [
    "#Your Code Here"
   ]
  },
  {
   "cell_type": "markdown",
   "metadata": {},
   "source": [
    "**Bonus Question 2:**\n",
    "\n",
    "- How long is the longest entry Ballard wrote in these years measured by the number of words? \n",
    "- Which entry was it?\n",
    "- Print the contents of that entry\n",
    "\n",
    "Functions you might use:\n",
    "- len()\n",
    "- max()\n",
    "- dictionary.values()"
   ]
  },
  {
   "cell_type": "code",
   "execution_count": 7,
   "metadata": {},
   "outputs": [],
   "source": [
    "#Bonus Question\n",
    "#Your Code Here"
   ]
  }
 ],
 "metadata": {
  "kernelspec": {
   "display_name": "Python 3",
   "language": "python",
   "name": "python3"
  },
  "language_info": {
   "codemirror_mode": {
    "name": "ipython",
    "version": 3
   },
   "file_extension": ".py",
   "mimetype": "text/x-python",
   "name": "python",
   "nbconvert_exporter": "python",
   "pygments_lexer": "ipython3",
   "version": "3.8.8"
  }
 },
 "nbformat": 4,
 "nbformat_minor": 4
}
